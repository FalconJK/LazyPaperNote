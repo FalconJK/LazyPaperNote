{
 "cells": [
  {
   "cell_type": "code",
   "execution_count": 1,
   "metadata": {
    "pycharm": {
     "is_executing": false
    }
   },
   "outputs": [],
   "source": [
    "import re\n",
    "import win32clipboard\n",
    "from nltk import sent_tokenize"
   ]
  },
  {
   "cell_type": "code",
   "execution_count": 2,
   "metadata": {
    "pycharm": {
     "is_executing": false
    }
   },
   "outputs": [],
   "source": [
    "def get_clipboard_text():\n",
    "    \"\"\" Try to get clipboard's text\n",
    "\n",
    "        Returns:\n",
    "            text(str):\n",
    "                string: data from clipboard\n",
    "\n",
    "    \"\"\"\n",
    "\n",
    "    win32clipboard.OpenClipboard()\n",
    "    try:\n",
    "        text = win32clipboard.GetClipboardData(\n",
    "            win32clipboard.CF_UNICODETEXT)\n",
    "    except (TypeError, win32clipboard.error):\n",
    "        text = None\n",
    "    finally:\n",
    "        win32clipboard.CloseClipboard()\n",
    "\n",
    "    if text:\n",
    "        return text\n",
    "    else:\n",
    "        raise TypeError(\n",
    "            \"Can't get clipboard's data, might not be text data.\")"
   ]
  },
  {
   "cell_type": "code",
   "execution_count": 3,
   "metadata": {
    "pycharm": {
     "is_executing": false
    }
   },
   "outputs": [],
   "source": [
    "def set_clipboard_text(new_text):\n",
    "    \"\"\" Try to get clipboard's text\n",
    "\n",
    "        Args:\n",
    "            new_text(str):\n",
    "                data for updating clipboard.\n",
    "\n",
    "    \"\"\"\n",
    "    win32clipboard.OpenClipboard()\n",
    "    win32clipboard.EmptyClipboard()\n",
    "    try:\n",
    "        win32clipboard.SetClipboardData(\n",
    "            win32clipboard.CF_UNICODETEXT, new_text)\n",
    "    except:\n",
    "#         logging.warn(\n",
    "#             \"Sorry we can't SET your clipborad.\")\n",
    "        raise TypeError(\"Sorry we can't RESET your clipborad.\")\n",
    "    finally:\n",
    "        win32clipboard.CloseClipboard()"
   ]
  },
  {
   "cell_type": "code",
   "execution_count": 4,
   "metadata": {
    "pycharm": {
     "is_executing": false
    }
   },
   "outputs": [],
   "source": [
    "text = get_clipboard_text()"
   ]
  },
  {
   "cell_type": "code",
   "execution_count": 5,
   "metadata": {
    "pycharm": {
     "is_executing": false
    }
   },
   "outputs": [
    {
     "name": "stdout",
     "output_type": "stream",
     "text": [
      "Wall time: 7.98 ms\n"
     ]
    }
   ],
   "source": [
    "%%time\n",
    "sents = sent_tokenize(text)"
   ]
  },
  {
   "cell_type": "code",
   "execution_count": 6,
   "metadata": {},
   "outputs": [],
   "source": [
    "format_text = [' '.join(s.split()) for s in sents]"
   ]
  },
  {
   "cell_type": "code",
   "execution_count": 7,
   "metadata": {},
   "outputs": [],
   "source": [
    "from googletrans import Translator"
   ]
  },
  {
   "cell_type": "code",
   "execution_count": 8,
   "metadata": {},
   "outputs": [],
   "source": [
    "translator = Translator(service_urls=[\n",
    "    'translate.google.com.tw',\n",
    "    'translate.google.com',\n",
    "])"
   ]
  },
  {
   "cell_type": "code",
   "execution_count": 9,
   "metadata": {},
   "outputs": [],
   "source": [
    "translations = translator.translate(format_text, dest='zh-TW')"
   ]
  },
  {
   "cell_type": "code",
   "execution_count": 10,
   "metadata": {},
   "outputs": [],
   "source": [
    "markdown = ['*'+s.origin+'*\\n>'+s.text for s in translations]"
   ]
  },
  {
   "cell_type": "code",
   "execution_count": 11,
   "metadata": {},
   "outputs": [],
   "source": [
    "set_clipboard_text('\\n\\n'.join(markdown))"
   ]
  }
 ],
 "metadata": {
  "kernelspec": {
   "display_name": "Python 3",
   "language": "python",
   "name": "python3"
  },
  "language_info": {
   "codemirror_mode": {
    "name": "ipython",
    "version": 3
   },
   "file_extension": ".py",
   "mimetype": "text/x-python",
   "name": "python",
   "nbconvert_exporter": "python",
   "pygments_lexer": "ipython3",
   "version": "3.7.4"
  },
  "pycharm": {
   "stem_cell": {
    "cell_type": "raw",
    "metadata": {
     "collapsed": false
    },
    "source": []
   }
  }
 },
 "nbformat": 4,
 "nbformat_minor": 4
}
